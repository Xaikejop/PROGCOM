{
  "nbformat": 4,
  "nbformat_minor": 0,
  "metadata": {
    "colab": {
      "provenance": []
    },
    "kernelspec": {
      "name": "python3",
      "display_name": "Python 3"
    },
    "language_info": {
      "name": "python"
    }
  },
  "cells": [
    {
      "cell_type": "markdown",
      "source": [
        "#prueba de conocimientos\n"
      ],
      "metadata": {
        "id": "yInEh5PXFMoM"
      }
    },
    {
      "cell_type": "markdown",
      "source": [
        "##tipo de datos\n",
        "1. numerico\n",
        "- entero: int\n",
        "- decimal: float\n",
        "2. alfanumerico o cadena de caracteres.\n",
        "(string-str)\n",
        "3. logico: Boolean - bool\n",
        "4. lista: list []\n",
        "5. diccionario: dict {}\n",
        "\n",
        "para saber que tipo de ddatos estamos manipulando se usa la funcion type()\n",
        "\n"
      ],
      "metadata": {
        "id": "O_KHYZQbFtr5"
      }
    },
    {
      "cell_type": "code",
      "execution_count": null,
      "metadata": {
        "colab": {
          "base_uri": "https://localhost:8080/"
        },
        "id": "TTPLl_bJEVFK",
        "outputId": "36db923f-2995-4fef-bc00-e543667998ca"
      },
      "outputs": [
        {
          "output_type": "execute_result",
          "data": {
            "text/plain": [
              "17"
            ]
          },
          "metadata": {},
          "execution_count": 3
        }
      ],
      "source": [
        "5+3*4"
      ]
    },
    {
      "cell_type": "code",
      "source": [
        "type(5+3*4)"
      ],
      "metadata": {
        "colab": {
          "base_uri": "https://localhost:8080/"
        },
        "id": "tHfcletJHaGo",
        "outputId": "e2d72f08-7c3c-4631-91df-b454d7af8e61"
      },
      "execution_count": null,
      "outputs": [
        {
          "output_type": "execute_result",
          "data": {
            "text/plain": [
              "int"
            ]
          },
          "metadata": {},
          "execution_count": 4
        }
      ]
    },
    {
      "cell_type": "code",
      "source": [
        "print (f\"5+3*4={5+3*4} y da como resultado un valor de tipo{type(5+3*4)}\")"
      ],
      "metadata": {
        "colab": {
          "base_uri": "https://localhost:8080/"
        },
        "id": "W7KmkBiqHktJ",
        "outputId": "a4ed3fb3-e528-4b52-85aa-bb188eb18214"
      },
      "execution_count": null,
      "outputs": [
        {
          "output_type": "stream",
          "name": "stdout",
          "text": [
            "5+3*4=17 y da como resultado un valor de tipo<class 'int'>\n"
          ]
        }
      ]
    },
    {
      "cell_type": "code",
      "source": [
        "#cuando se usa + en string, sucede la concatenacion\n",
        "\"5\"+\"3\"*2"
      ],
      "metadata": {
        "colab": {
          "base_uri": "https://localhost:8080/",
          "height": 35
        },
        "id": "GQcSr6dqH_Qg",
        "outputId": "ba9f22d2-9a2f-4651-b124-f2a327b35332"
      },
      "execution_count": null,
      "outputs": [
        {
          "output_type": "execute_result",
          "data": {
            "text/plain": [
              "'533'"
            ],
            "application/vnd.google.colaboratory.intrinsic+json": {
              "type": "string"
            }
          },
          "metadata": {},
          "execution_count": 6
        }
      ]
    },
    {
      "cell_type": "code",
      "source": [
        "#= es asignacion. == comparacion\n",
        "2 ** 11 == 1000"
      ],
      "metadata": {
        "id": "w2NCJ_P3JCev"
      },
      "execution_count": null,
      "outputs": []
    },
    {
      "cell_type": "markdown",
      "source": [
        "##Operaciones logicas\n",
        "1. Disyuncion (o): una proposicion es verdadera, si al menos una de ella lo es. En phyton se puede anunciar con la palabra \"or\" o con **||**\n",
        "ejemplo: V OR V DA V. V OR F DA V. F OR V DA V F OR F DA F\n",
        "\n",
        "2. Conjuncion (y): Una preposicion es verdadera, si Y SOLO SI, ambas preposiciones son verdaderas. En phyton, se utiliza la palabra **and** o **gg** para su uso. Ejemplo F and F da F; F and V da F; V and F da F; V and V da V\n",
        "\n",
        "3. Negacion (no) niega el valor de la verdad de una preposicion. Si el valor de verdad es true, se vuelve false. En phyton se usa la palabra **not** o ~ para denotarla."
      ],
      "metadata": {
        "id": "G4TtrHiOJR2n"
      }
    },
    {
      "cell_type": "code",
      "source": [
        "a=2 ** 11 == 1000 or 2 ** 9 == 100"
      ],
      "metadata": {
        "id": "gLN6XVEkK_8-"
      },
      "execution_count": null,
      "outputs": []
    },
    {
      "cell_type": "code",
      "source": [
        "print(f\"el valor de la expresion a=2 ** 11 == 1000 or 2 ** 9 == 100 es {a}\")"
      ],
      "metadata": {
        "colab": {
          "base_uri": "https://localhost:8080/"
        },
        "id": "ie9ldfKhLFY2",
        "outputId": "ec7b3316-09fc-436e-a49d-6ab9fc7374ce"
      },
      "execution_count": null,
      "outputs": [
        {
          "output_type": "stream",
          "name": "stdout",
          "text": [
            "el valor de la expresion a=2 ** 11 == 1000 or 2 ** 9 == 100 es False\n"
          ]
        }
      ]
    },
    {
      "cell_type": "code",
      "source": [
        "#Colocar un tipo de dato antes del dato, se usa para transformar el dato dentro del parentesis en el dato por fuera del parentesis\n",
        "int(\"cincuenta\")"
      ],
      "metadata": {
        "colab": {
          "base_uri": "https://localhost:8080/",
          "height": 159
        },
        "collapsed": true,
        "id": "bmlSaCaFMynF",
        "outputId": "e0b8f38a-1cb1-4a56-a723-dce359ae3e07"
      },
      "execution_count": null,
      "outputs": [
        {
          "output_type": "error",
          "ename": "ValueError",
          "evalue": "invalid literal for int() with base 10: 'cincuenta'",
          "traceback": [
            "\u001b[0;31m---------------------------------------------------------------------------\u001b[0m",
            "\u001b[0;31mValueError\u001b[0m                                Traceback (most recent call last)",
            "\u001b[0;32m<ipython-input-17-e5f0ce12bc10>\u001b[0m in \u001b[0;36m<cell line: 2>\u001b[0;34m()\u001b[0m\n\u001b[1;32m      1\u001b[0m \u001b[0;31m#Colocar un tipo de dato antes del dato, se usa para transformar el dato dentro del parentesis en el dato por fuera del parentesis\u001b[0m\u001b[0;34m\u001b[0m\u001b[0;34m\u001b[0m\u001b[0m\n\u001b[0;32m----> 2\u001b[0;31m \u001b[0mint\u001b[0m\u001b[0;34m(\u001b[0m\u001b[0;34m\"cincuenta\"\u001b[0m\u001b[0;34m)\u001b[0m\u001b[0;34m\u001b[0m\u001b[0;34m\u001b[0m\u001b[0m\n\u001b[0m",
            "\u001b[0;31mValueError\u001b[0m: invalid literal for int() with base 10: 'cincuenta'"
          ]
        }
      ]
    },
    {
      "cell_type": "code",
      "source": [
        "int(\"50\")"
      ],
      "metadata": {
        "colab": {
          "base_uri": "https://localhost:8080/"
        },
        "id": "14rSgihzNYUN",
        "outputId": "5c8df569-e1ea-40ae-86d4-df938b47d8fe"
      },
      "execution_count": null,
      "outputs": [
        {
          "output_type": "execute_result",
          "data": {
            "text/plain": [
              "50"
            ]
          },
          "metadata": {},
          "execution_count": 18
        }
      ]
    },
    {
      "cell_type": "code",
      "source": [
        "str(\"50\")"
      ],
      "metadata": {
        "colab": {
          "base_uri": "https://localhost:8080/",
          "height": 35
        },
        "id": "R2M9QAbQNcvs",
        "outputId": "c090dbb9-8101-4745-a562-6611ed1e426f"
      },
      "execution_count": null,
      "outputs": [
        {
          "output_type": "execute_result",
          "data": {
            "text/plain": [
              "'50'"
            ],
            "application/vnd.google.colaboratory.intrinsic+json": {
              "type": "string"
            }
          },
          "metadata": {},
          "execution_count": 19
        }
      ]
    },
    {
      "cell_type": "code",
      "source": [
        "# siempre que haya una division el resultado dara decimal\n",
        "16/16 + 384/24"
      ],
      "metadata": {
        "colab": {
          "base_uri": "https://localhost:8080/"
        },
        "id": "FRmwZeIxOA-k",
        "outputId": "df11388b-b648-4341-f669-99c03924ec23"
      },
      "execution_count": null,
      "outputs": [
        {
          "output_type": "execute_result",
          "data": {
            "text/plain": [
              "17.0"
            ]
          },
          "metadata": {},
          "execution_count": 20
        }
      ]
    },
    {
      "cell_type": "code",
      "source": [
        "type (16/16 + 384/24)"
      ],
      "metadata": {
        "colab": {
          "base_uri": "https://localhost:8080/"
        },
        "id": "iSRwFD5eO0I0",
        "outputId": "8a248b6d-a4de-411d-803e-c287d0d87f39"
      },
      "execution_count": null,
      "outputs": [
        {
          "output_type": "execute_result",
          "data": {
            "text/plain": [
              "float"
            ]
          },
          "metadata": {},
          "execution_count": 21
        }
      ]
    },
    {
      "cell_type": "code",
      "source": [
        "# % es el modulo de la operacion\n",
        "600 + 18%2\n"
      ],
      "metadata": {
        "colab": {
          "base_uri": "https://localhost:8080/"
        },
        "id": "3GJsWLdHO6fz",
        "outputId": "51d8dbec-3a58-49ec-d713-af266ac9c3a4"
      },
      "execution_count": null,
      "outputs": [
        {
          "output_type": "execute_result",
          "data": {
            "text/plain": [
              "600"
            ]
          },
          "metadata": {},
          "execution_count": 23
        }
      ]
    },
    {
      "cell_type": "code",
      "source": [
        "0 < (4096 % 10) < 6"
      ],
      "metadata": {
        "colab": {
          "base_uri": "https://localhost:8080/"
        },
        "id": "UQOdVWHXQfqy",
        "outputId": "a9f0eb81-3ccf-43b1-bbd1-f77ac3757832"
      },
      "execution_count": null,
      "outputs": [
        {
          "output_type": "execute_result",
          "data": {
            "text/plain": [
              "False"
            ]
          },
          "metadata": {},
          "execution_count": 24
        }
      ]
    },
    {
      "cell_type": "code",
      "source": [
        "d = 'max' + 'min'"
      ],
      "metadata": {
        "id": "JoAYOhcyQs2y"
      },
      "execution_count": null,
      "outputs": []
    },
    {
      "cell_type": "code",
      "source": [
        "print(f\"La operacion 'max' + 'min' da {d} y es de tipo {type(d)}\")"
      ],
      "metadata": {
        "colab": {
          "base_uri": "https://localhost:8080/"
        },
        "id": "m2F12m5hQ0fa",
        "outputId": "9a12657c-9257-4c1b-ee98-c247e7e373ec"
      },
      "execution_count": null,
      "outputs": [
        {
          "output_type": "stream",
          "name": "stdout",
          "text": [
            "La operacion 'max' + 'min' da maxmin y es de tipo <class 'str'>\n"
          ]
        }
      ]
    },
    {
      "cell_type": "code",
      "source": [],
      "metadata": {
        "id": "zSAcmx7VRt9I"
      },
      "execution_count": null,
      "outputs": []
    },
    {
      "cell_type": "code",
      "source": [
        "# ABC es una funcion no definida\n",
        "ABC() * DEF()"
      ],
      "metadata": {
        "id": "EFf5iAiwR-Xh"
      },
      "execution_count": null,
      "outputs": []
    },
    {
      "cell_type": "code",
      "source": [
        "float(-int(\"7\")+int('90))"
      ],
      "metadata": {
        "id": "qfKOEuduSrZq"
      },
      "execution_count": null,
      "outputs": []
    },
    {
      "cell_type": "markdown",
      "source": [
        "abs(len('seis) - len('tres'))\n",
        "1. abs = valor absoluto\n",
        "\n",
        "2. len = cuenta la cantidad de letras de un string\n",
        "\n",
        "- len('seis')=4\n",
        "- len('tres')=4"
      ],
      "metadata": {
        "id": "I0W2t9CgTdyo"
      }
    },
    {
      "cell_type": "code",
      "source": [
        "#Todos los numeros a exepcion de 0, da true al convertirlos en booleanos\n",
        "bool(1210) or bool(-3465)"
      ],
      "metadata": {
        "id": "b423cH-qUqqY"
      },
      "execution_count": null,
      "outputs": []
    },
    {
      "cell_type": "code",
      "source": [
        "int('8' * 3)"
      ],
      "metadata": {
        "colab": {
          "base_uri": "https://localhost:8080/"
        },
        "id": "YZTsks7NVH1Q",
        "outputId": "d5778c3d-a485-422f-aca6-83ed57e08c5a"
      },
      "execution_count": null,
      "outputs": [
        {
          "output_type": "execute_result",
          "data": {
            "text/plain": [
              "888"
            ]
          },
          "metadata": {},
          "execution_count": 35
        }
      ]
    },
    {
      "cell_type": "code",
      "source": [
        "int('8' * 3) / 3"
      ],
      "metadata": {
        "colab": {
          "base_uri": "https://localhost:8080/"
        },
        "id": "piYzs2iMVnZP",
        "outputId": "35001d32-68be-4cbf-9b0b-fde9cee328ec"
      },
      "execution_count": null,
      "outputs": [
        {
          "output_type": "execute_result",
          "data": {
            "text/plain": [
              "296.0"
            ]
          },
          "metadata": {},
          "execution_count": 36
        }
      ]
    },
    {
      "cell_type": "code",
      "source": [
        "#Todos los string son listas, por ende, podemos conocer la posicion de cada uno de sus elementos en phyton se empieza contando desde 0\n",
        "str(296.0)"
      ],
      "metadata": {
        "colab": {
          "base_uri": "https://localhost:8080/",
          "height": 35
        },
        "id": "qrU0MGjMV5IH",
        "outputId": "9c84ecee-90eb-4b15-e49d-052598207249"
      },
      "execution_count": null,
      "outputs": [
        {
          "output_type": "execute_result",
          "data": {
            "text/plain": [
              "'296.0'"
            ],
            "application/vnd.google.colaboratory.intrinsic+json": {
              "type": "string"
            }
          },
          "metadata": {},
          "execution_count": 37
        }
      ]
    },
    {
      "cell_type": "code",
      "source": [
        "float(srt(int('8' * 3)/ 3 [3])"
      ],
      "metadata": {
        "id": "MVG_n-7cV-xe"
      },
      "execution_count": null,
      "outputs": []
    }
  ]
}