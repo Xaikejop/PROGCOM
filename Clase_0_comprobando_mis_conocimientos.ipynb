{
  "nbformat": 4,
  "nbformat_minor": 0,
  "metadata": {
    "colab": {
      "provenance": []
    },
    "kernelspec": {
      "name": "python3",
      "display_name": "Python 3"
    },
    "language_info": {
      "name": "python"
    }
  },
  "cells": [
    {
      "cell_type": "markdown",
      "source": [
        "#Resumen de Charla\n",
        " Psicóloga experta en protección a la niñez en línea, analista de abuso sexual en línea certificada por INHOPE Association, entrenadora para padres de la Positive Discipline Association, Encouragement Consultant y formadora de agentes educativos en prevención y detección inicial de violencias sexuales. Durante el 2022 está asesorando proyectos de articulación intersectorial para la protección de la niñez en los entornos digitales financiados por el Fondo para Erradicar la Violencia Contra los Niños de Naciones Unidas. En 2019, fue reconocida por la Red Latinoamericana de Mujeres en ciberseguridad WOMCY como una de las 50 mujeres latinoamericanas TOP en Ciberseguridad, por su aporte a la protección de la niñez en los entornos digitales. Durante la conferencia, la oradora mencionó varios aspectos clave de la protección de la salud mental de los niños en las interacciones en línea. Se prestó especial atención. sensualidad: el hecho de que hasta los 14 años de edad, todavía no se desarrollan ni la capacidad de un humano para comprender correcta y objetivamente las intenciones de otras personas, una evaluación equilibrada de la verdad. La procedencia, . iNdExRecientemente fue consciente varias circunstancias: es donde se ubica tu computadora o tableta para navegar por la web. asegúrate de que, en ningún caso, esté en un lugar escondido, lo que te impida determinar lo que está haciendo el niño."
      ],
      "metadata": {
        "id": "yInEh5PXFMoM"
      }
    },
    {
      "cell_type": "code",
      "source": [],
      "metadata": {
        "id": "Zrxb295BLIkC"
      },
      "execution_count": null,
      "outputs": []
    },
    {
      "cell_type": "code",
      "source": [],
      "metadata": {
        "id": "6XFWWzAHLKzZ"
      },
      "execution_count": null,
      "outputs": []
    }
  ]
}