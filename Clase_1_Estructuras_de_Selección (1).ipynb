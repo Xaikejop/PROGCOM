{
  "cells": [
    {
      "cell_type": "code",
      "execution_count": 21,
      "metadata": {
        "colab": {
          "base_uri": "https://localhost:8080/"
        },
        "id": "ycL62FEq-o29",
        "outputId": "39e3aa44-c4b9-4c24-dfdf-60c8359bf179"
      },
      "outputs": [
        {
          "name": "stdout",
          "output_type": "stream",
          "text": [
            "Quieres aprender a programar? si\n",
            "Empieza haciendo ejercicios\n"
          ]
        }
      ],
      "source": [
        "respuesta=input(\"Quieres aprender a programar? \")\n",
        "if respuesta == \"si\":\n",
        "  print(\"Empieza haciendo ejercicios\")\n",
        "else:\n",
        "    print(\"Reconsideralo\")"
      ]
    },
    {
      "cell_type": "markdown",
      "metadata": {
        "id": "7SCBMil2Di1o"
      },
      "source": [
        "#Estructuras de selección\n",
        "\n",
        "1. Si - sino: if - else\n",
        "2. Operador terniario\n",
        "3. Estructura switch\n",
        "\n",
        "\n",
        "*   if/elif/else\n",
        "*   match - case\n",
        "\n"
      ]
    },
    {
      "cell_type": "code",
      "execution_count": 22,
      "metadata": {
        "colab": {
          "base_uri": "https://localhost:8080/"
        },
        "id": "5AA2VbgQ_9NR",
        "outputId": "ffe6b76d-6a29-4bc0-9c25-f92325b42013"
      },
      "outputs": [
        {
          "name": "stdout",
          "output_type": "stream",
          "text": [
            "Quieres aprender a programar? Sí\n",
            "Empieza haciendo ejercicios\n"
          ]
        }
      ],
      "source": [
        "#Las dos variables no eran iguales (Respuesta - respuesta)\n",
        "#Las variables se escriben en minuscula\n",
        "#if y else van en minúscula\n",
        "\n",
        "respuesta=input(\"Quieres aprender a programar? \").capitalize()\n",
        "if respuesta == \"Sí\":\n",
        "  #Estamos dentro del si\n",
        "  print(\"Empieza haciendo ejercicios\")\n",
        "else:\n",
        "  #Estamos dentro del si-no\n",
        "    print(\"Reconsidéralo\")"
      ]
    },
    {
      "cell_type": "markdown",
      "metadata": {
        "id": "xQkiCVxRVNDT"
      },
      "source": [
        "#If and else"
      ]
    },
    {
      "cell_type": "markdown",
      "metadata": {
        "id": "FwjNsWOQGFzm"
      },
      "source": [
        "#Ejercicios de practica\n",
        "\n",
        "1. Dividir dos números siempre y cuando el denominador no sea 0\n",
        "2. Definir si un número es mayor que 5 y menor a 15.\n",
        "3. Definir si un número es mayor que n y menor o igual que m.\n",
        "4. Definir si una letra es m o no.\n",
        "5. Verificar si un número es impar o par.\n",
        "6. Decrementa en 1 una unidad, si x es mayor que 5."
      ]
    },
    {
      "cell_type": "code",
      "execution_count": 30,
      "metadata": {
        "colab": {
          "base_uri": "https://localhost:8080/"
        },
        "id": "SpOMbTxuH8wV",
        "outputId": "28c58195-9358-4f11-f365-1ea245ecb8c3"
      },
      "outputs": [
        {
          "name": "stdout",
          "output_type": "stream",
          "text": [
            "Ingrese un número: 8\n",
            "Ingrese un número: 5\n",
            "Ingrese un número: 2\n"
          ]
        }
      ],
      "source": [
        "# 3. Definir si un número es mayor que n y menor o igual que m.\n",
        "\n",
        "n = int(input(\"Ingrese un número: \"))\n",
        "m = int(input(\"Ingrese un número: \"))\n",
        "x = int(input(\"Ingrese un número: \"))"
      ]
    },
    {
      "cell_type": "code",
      "execution_count": 31,
      "metadata": {
        "colab": {
          "base_uri": "https://localhost:8080/"
        },
        "id": "vMJOPh9SGA6O",
        "outputId": "660eefdc-19af-4887-e663-ee3f17ff1b4e"
      },
      "outputs": [
        {
          "name": "stdout",
          "output_type": "stream",
          "text": [
            "El número 2 no es mayor que 8, pero si es menor o igual que 5\n"
          ]
        }
      ],
      "source": [
        "# 3. Definir si un número es mayor que n y menor o igual que m.\n",
        "\n",
        "if x>n and x<=m:\n",
        "  print(f\"El número {x} es mayor que {n} y menor o igual que {m} \")\n",
        "elif x>n and x>=m:\n",
        "  print(f\"El número {x} es mayor que {n}, pero no es menor o igual que {m}\")\n",
        "elif x<n and x<=m:\n",
        "  print(f\"El número {x} no es mayor que {n}, pero si es menor o igual que {m}\")\n",
        "else:\n",
        "  print(f\"El número {x} no es mayor que {n} y no es menor o igual que {m}\")"
      ]
    },
    {
      "cell_type": "code",
      "execution_count": 33,
      "metadata": {
        "colab": {
          "base_uri": "https://localhost:8080/"
        },
        "id": "PfsXVSUcHp2L",
        "outputId": "bc4edfff-7f6a-4da0-9162-4a8100ceb324"
      },
      "outputs": [
        {
          "name": "stdout",
          "output_type": "stream",
          "text": [
            "El número 2 no es mayor que 8, pero si es menor o igual que 5\n"
          ]
        }
      ],
      "source": [
        "if x>n and x<=m:\n",
        "  print(f\"El número {x} es mayor que {n} y menor o igual que {m} \")\n",
        "else:\n",
        "  if x>n:\n",
        "    print(f\"El número {x} es mayor que {n}, pero no es menor o igual que {m}\")\n",
        "  else:\n",
        "    print(f\"El número {x} no es mayor que {n}, pero si es menor o igual que {m}\")"
      ]
    },
    {
      "cell_type": "code",
      "execution_count": 41,
      "metadata": {
        "colab": {
          "base_uri": "https://localhost:8080/"
        },
        "id": "vb8EGKqBN80l",
        "outputId": "5ce8acc6-901b-4d91-feff-bd7bd5861e67"
      },
      "outputs": [
        {
          "name": "stdout",
          "output_type": "stream",
          "text": [
            "Ingrese una letra: m\n",
            "Ingresaste una m\n"
          ]
        }
      ],
      "source": [
        "# 4. Definir si una letra es m o no.\n",
        "\n",
        "letra = (input(\"Ingrese una letra: \"))\n",
        "if letra == \"m\" or letra == \"M\":\n",
        "  print(\"Ingresaste una m\")\n",
        "else:\n",
        "  print(\"No ingresaste una m\")"
      ]
    },
    {
      "cell_type": "code",
      "execution_count": 46,
      "metadata": {
        "colab": {
          "base_uri": "https://localhost:8080/"
        },
        "id": "1JRaRcjpO80u",
        "outputId": "462bee29-5b7c-4244-9529-fa797c16c609"
      },
      "outputs": [
        {
          "name": "stdout",
          "output_type": "stream",
          "text": [
            "Ingrese una letra: k\n",
            "No ingresaste una m\n"
          ]
        }
      ],
      "source": [
        "# 4. Definir si una letra es m o no.\n",
        "\n",
        "letra = (input(\"Ingrese una letra: \")).lower()\n",
        "if letra == \"m\":\n",
        "  print(\"Ingresaste una m\")\n",
        "else:\n",
        "  print(\"No ingresaste una m\")"
      ]
    },
    {
      "cell_type": "code",
      "execution_count": 50,
      "metadata": {
        "colab": {
          "base_uri": "https://localhost:8080/"
        },
        "id": "JFRE4towPR1-",
        "outputId": "39f89252-4e38-4efb-a976-ed7e3565321b"
      },
      "outputs": [
        {
          "name": "stdout",
          "output_type": "stream",
          "text": [
            "Ingrese un número: 2\n",
            "El número 2 no es mayor que 5\n"
          ]
        }
      ],
      "source": [
        "# 6. Decrementa en 1 una unidad, si x es mayor que 5.\n",
        "\n",
        "numero = int(input(\"Ingrese un número: \"))\n",
        "if numero > 5:\n",
        "  print(f\"El nuevo número es {numero - 1}\")\n",
        "else:\n",
        "  print(f\"El número {numero} no es mayor que 5\")"
      ]
    },
    {
      "cell_type": "code",
      "execution_count": 53,
      "metadata": {
        "colab": {
          "base_uri": "https://localhost:8080/"
        },
        "id": "xP32YgMnQFxO",
        "outputId": "a3303e14-053f-44c3-82ce-b992e3927703"
      },
      "outputs": [
        {
          "name": "stdout",
          "output_type": "stream",
          "text": [
            "Ingrese el número que quiere dividir: 5\n",
            "Ingrese el número sobre el cual quiere dividir: 3\n",
            "El resultado de la división es 1.6666666666666667 \n"
          ]
        }
      ],
      "source": [
        "#1. Dividir dos números siempre y cuando el denominador no sea 0\n",
        "\n",
        "x=int(input(\"Ingrese el número que quiere dividir: \"))\n",
        "y=int(input(\"Ingrese el número sobre el cual quiere dividir: \"))\n",
        "\n",
        "if y==0:\n",
        "  print(\"No se puede dividir entre 0\")\n",
        "else:\n",
        "  print(f\"El resultado de la división es {x/y} \")"
      ]
    },
    {
      "cell_type": "code",
      "execution_count": 63,
      "metadata": {
        "colab": {
          "base_uri": "https://localhost:8080/"
        },
        "id": "PHJj_vBmQgb1",
        "outputId": "166dfbbf-8ffd-4ed6-af76-ef3d9ec4072e"
      },
      "outputs": [
        {
          "name": "stdout",
          "output_type": "stream",
          "text": [
            "Ingrese un número: 25\n",
            "El número 25 es mayor que 5, pero no es menor a 15\n"
          ]
        }
      ],
      "source": [
        "#2. Definir si un número es mayor que 5 y menor a 15.\n",
        "\n",
        "numero = int(input(\"Ingrese un número: \"))\n",
        "if numero > 5 and numero < 15:\n",
        "  print(f\"El número {numero} es mayor que 5 y menor a 15\")\n",
        "else:\n",
        "  if numero > 5:\n",
        "    print(f\"El número {numero} es mayor que 5, pero no es menor a 15\")\n",
        "  else:\n",
        "    print(f\"El número {numero} es menor que 15, pero no es mayor que 5\")\n"
      ]
    },
    {
      "cell_type": "code",
      "execution_count": 66,
      "metadata": {
        "colab": {
          "base_uri": "https://localhost:8080/"
        },
        "id": "uWDsvCOiQ5a9",
        "outputId": "dbee53e6-6aaf-4d1b-8ca8-e2c77a8427e0"
      },
      "outputs": [
        {
          "name": "stdout",
          "output_type": "stream",
          "text": [
            "Ingrese un número: 2\n",
            "El número 2 es par\n"
          ]
        }
      ],
      "source": [
        "#5. Verificar si un número es impar o par.\n",
        "\n",
        "numero = int(input(\"Ingrese un número: \"))\n",
        "if numero % 2 == 0:\n",
        "  print(f\"El número {numero} es par\")\n",
        "else:\n",
        "  print(f\"El número {numero} es impar\")"
      ]
    },
    {
      "cell_type": "markdown",
      "metadata": {
        "id": "kuq1vLZtVQ-L"
      },
      "source": [
        "#Operador Terniario\n",
        "\n",
        "1. Acción si se cumple la condición\n",
        "2. Condición\n",
        "3. Else\n",
        "4. Acción si no se cumple la condición"
      ]
    },
    {
      "cell_type": "code",
      "execution_count": null,
      "metadata": {
        "id": "gQgARmZzSO9M"
      },
      "outputs": [],
      "source": [
        "\n",
        "respuesta=input(\"Quieres aprender a programar? \").capitalize()\n",
        "if respuesta == \"Sí\":\n",
        "\n",
        "  print(\"Empieza haciendo ejercicios\")\n",
        "else:\n",
        "    print(\"Reconsidéralo\")"
      ]
    },
    {
      "cell_type": "code",
      "execution_count": 71,
      "metadata": {
        "colab": {
          "base_uri": "https://localhost:8080/"
        },
        "id": "B2OuDV1GVaAf",
        "outputId": "415bd5f9-623d-4e6c-eb2f-0b1d748338b5"
      },
      "outputs": [
        {
          "name": "stdout",
          "output_type": "stream",
          "text": [
            "Deseas aprender a programar? sí\n",
            "Reconsidéralo\n"
          ]
        }
      ],
      "source": [
        "#Operador terniario\n",
        "\n",
        "respuesta=input(\"Deseas aprender a programar? \").capitalize()\n",
        "a=\"Empieza a hacer ejercicios\" if respuesta == \"sí\" else \"Reconsidéralo\"\n",
        "print(a)"
      ]
    },
    {
      "cell_type": "code",
      "execution_count": null,
      "metadata": {
        "id": "4_JDJuuVacUf"
      },
      "outputs": [],
      "source": [
        "# 4. Definir si una letra es m o no.\n",
        "\n",
        "letra = (input(\"Ingrese una letra: \")).lower()\n",
        "if letra == \"m\":\n",
        "  print(\"Ingresaste una m\")\n",
        "else:\n",
        "  print(\"No ingresaste una m\")"
      ]
    },
    {
      "cell_type": "code",
      "execution_count": 73,
      "metadata": {
        "colab": {
          "base_uri": "https://localhost:8080/"
        },
        "id": "42zc7jrzVytp",
        "outputId": "72c9c514-7822-4864-8641-55e2c7584f11"
      },
      "outputs": [
        {
          "name": "stdout",
          "output_type": "stream",
          "text": [
            "Ingrese una letra: M\n",
            "Ingresaste una m\n"
          ]
        }
      ],
      "source": [
        "#Operador terniario\n",
        "\n",
        "letra = (input(\"Ingrese una letra: \")).lower()\n",
        "print(\"Ingresaste una m\") if letra == \"m\" else print(\"No ingresaste una m\")"
      ]
    },
    {
      "cell_type": "code",
      "execution_count": null,
      "metadata": {
        "id": "wDaVAkPQWF6q"
      },
      "outputs": [],
      "source": [
        "# 3. Definir si un número es mayor que n y menor o igual que m.\n",
        "\n",
        "if x>n and x<=m:\n",
        "  print(f\"El número {x} es mayor que {n} y menor o igual que {m} \")\n",
        "else:\n",
        "  if x>n:\n",
        "    print(f\"El número {x} es mayor que {n}, pero no es menor o igual que {m}\")\n",
        "  else:\n",
        "    print(f\"El número {x} no es mayor que {n}, pero si es menor o igual que {m}\")"
      ]
    },
    {
      "cell_type": "code",
      "execution_count": 74,
      "metadata": {
        "colab": {
          "base_uri": "https://localhost:8080/"
        },
        "id": "Tk9theQuaw-V",
        "outputId": "650eb3d7-6079-4f8c-c331-d50994a33e02"
      },
      "outputs": [
        {
          "name": "stdout",
          "output_type": "stream",
          "text": [
            "El número 5 no es mayor que 8, pero si es menor o igual que 5\n"
          ]
        }
      ],
      "source": [
        "#Operador terniario\n",
        "\n",
        "b = print(f\"El número {x} es mayor que {n}, pero no es menor o igual que {m}\") if x>n else print(f\"El número {x} no es mayor que {n}, pero si es menor o igual que {m}\")\n",
        "print(f\"El número {x} es mayor que {n} y menor o igual que {m} \") if x>n and x<=m else b\n"
      ]
    },
    {
      "cell_type": "code",
      "execution_count": null,
      "metadata": {
        "id": "h87Vrwpqa8GF"
      },
      "outputs": [],
      "source": [
        "# 6. Decrementa en 1 una unidad, si x es mayor que 5.\n",
        "\n",
        "numero = int(input(\"Ingrese un número: \"))\n",
        "if numero > 5:\n",
        "  print(f\"El nuevo número es {numero - 1}\")\n",
        "else:\n",
        "  print(f\"El número {numero} no es mayor que 5\")"
      ]
    },
    {
      "cell_type": "code",
      "execution_count": 75,
      "metadata": {
        "colab": {
          "base_uri": "https://localhost:8080/"
        },
        "id": "loiIPh7aa_Vd",
        "outputId": "0ceecb91-ff5c-4b54-d9ff-187deb3cdedb"
      },
      "outputs": [
        {
          "name": "stdout",
          "output_type": "stream",
          "text": [
            "El número 2 no es mayor que 5\n"
          ]
        }
      ],
      "source": [
        "c = print(f\"El nuevo número es {numero - 1}\") if numero > 5 else print(f\"El número {numero} no es mayor que 5\")"
      ]
    },
    {
      "cell_type": "code",
      "execution_count": null,
      "metadata": {
        "id": "cr20Hm0TcX3z"
      },
      "outputs": [],
      "source": [
        "#1. Dividir dos números siempre y cuando el denominador no sea 0\n",
        "\n",
        "x=int(input(\"Ingrese el número que quiere dividir: \"))\n",
        "y=int(input(\"Ingrese el número sobre el cual quiere dividir: \"))\n",
        "\n",
        "if y==0:\n",
        "  print(\"No se puede dividir entre 0\")\n",
        "else:\n",
        "  print(f\"El resultado de la división es {x/y} \")"
      ]
    },
    {
      "cell_type": "code",
      "execution_count": 76,
      "metadata": {
        "colab": {
          "base_uri": "https://localhost:8080/"
        },
        "id": "OKbTduUmczD8",
        "outputId": "f73a8318-4113-46ec-8044-5c473184a3cd"
      },
      "outputs": [
        {
          "name": "stdout",
          "output_type": "stream",
          "text": [
            "El resultado de la división es 1.6666666666666667 \n"
          ]
        }
      ],
      "source": [
        "d = print(\"No se puede dividir entre 0\") if y==0 else print(f\"El resultado de la división es {x/y} \")"
      ]
    },
    {
      "cell_type": "code",
      "execution_count": null,
      "metadata": {
        "id": "Mil24thbc7jD"
      },
      "outputs": [],
      "source": [
        "#2. Definir si un número es mayor que 5 y menor a 15.\n",
        "\n",
        "numero = int(input(\"Ingrese un número: \"))\n",
        "if numero > 5 and numero < 15:\n",
        "  print(f\"El número {numero} es mayor que 5 y menor a 15\")\n",
        "else:\n",
        "  if numero > 5:\n",
        "    print(f\"El número {numero} es mayor que 5, pero no es menor a 15\")\n",
        "  else:\n",
        "    print(f\"El número {numero} es menor que 15, pero no es mayor que 5\")"
      ]
    },
    {
      "cell_type": "code",
      "execution_count": 77,
      "metadata": {
        "colab": {
          "base_uri": "https://localhost:8080/"
        },
        "id": "ILfr_T_IdCVj",
        "outputId": "87c97982-69f5-4e2d-a203-60d4556c15e6"
      },
      "outputs": [
        {
          "name": "stdout",
          "output_type": "stream",
          "text": [
            "El número 2 es menor que 15, pero no es mayor que 5\n"
          ]
        }
      ],
      "source": [
        "e = print(f\"El número {numero} es mayor que 5, pero no es menor a 15\") if numero > 5 else print(f\"El número {numero} es menor que 15, pero no es mayor que 5\")\n",
        "f = print(f\"El número {numero} es mayor que 5 y menor a 15\") if numero > 5 and numero < 15 else e"
      ]
    },
    {
      "cell_type": "code",
      "execution_count": null,
      "metadata": {
        "id": "9ztdadHKdNGi"
      },
      "outputs": [],
      "source": [
        "#5. Verificar si un número es impar o par.\n",
        "\n",
        "numero = int(input(\"Ingrese un número: \"))\n",
        "if numero % 2 == 0:\n",
        "  print(f\"El número {numero} es par\")\n",
        "else:\n",
        "  print(f\"El número {numero} es impar\")"
      ]
    },
    {
      "cell_type": "code",
      "execution_count": 78,
      "metadata": {
        "colab": {
          "base_uri": "https://localhost:8080/"
        },
        "id": "SHX_iZT7deXQ",
        "outputId": "e2c19a66-5f6e-4dd4-beaf-3ef1e0739252"
      },
      "outputs": [
        {
          "name": "stdout",
          "output_type": "stream",
          "text": [
            "El número 2 es par\n"
          ]
        }
      ],
      "source": [
        "g = print(f\"El número {numero} es par\") if numero % 2 == 0 else print(f\"El número {numero} es impar\")"
      ]
    },
    {
      "cell_type": "code",
      "execution_count": null,
      "metadata": {
        "id": "vpxldz6CdpAC"
      },
      "outputs": [],
      "source": []
    }
  ],
  "metadata": {
    "colab": {
      "provenance": []
    },
    "kernelspec": {
      "display_name": "Python 3",
      "name": "python3"
    },
    "language_info": {
      "name": "python"
    }
  },
  "nbformat": 4,
  "nbformat_minor": 0
}
