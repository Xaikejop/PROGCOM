{
  "nbformat": 4,
  "nbformat_minor": 0,
  "metadata": {
    "colab": {
      "provenance": []
    },
    "kernelspec": {
      "name": "python3",
      "display_name": "Python 3"
    },
    "language_info": {
      "name": "python"
    }
  },
  "cells": [
    {
      "cell_type": "code",
      "source": [
        "#Ejercico numero 1\n",
        "n = (input(\"Ingrese su nombre: \"))\n",
        "c = (input(\"Ingrese su código: \"))\n",
        "print(\"UNIVERSIDAD AUTÓNOMA DE BUCARAMANGA\")\n",
        "print(f\"Nombre del estudiante: {n}\")\n",
        "print(f\"Código: {c}\")"
      ],
      "metadata": {
        "colab": {
          "base_uri": "https://localhost:8080/"
        },
        "id": "bMArdXQOgC4U",
        "outputId": "4a8976cb-7958-4343-aecb-2bf8763ad00e"
      },
      "execution_count": 7,
      "outputs": [
        {
          "output_type": "stream",
          "name": "stdout",
          "text": [
            "Ingrese su nombre: Maicol\n",
            "Ingrese su código: U00171426\n",
            "UNIVERSIDAD AUTÓNOMA DE BUCARAMANGA\n",
            "Nombre del estudiante: Maicol\n",
            "Código: U00171426\n"
          ]
        }
      ]
    },
    {
      "cell_type": "code",
      "execution_count": 1,
      "metadata": {
        "colab": {
          "base_uri": "https://localhost:8080/"
        },
        "id": "Sosc_UYnZY4y",
        "outputId": "deb6fc11-9166-40c2-f720-86b5cf38a984"
      },
      "outputs": [
        {
          "output_type": "stream",
          "name": "stdout",
          "text": [
            "Introduce el radio de la base del cono: 12\n",
            "Introduce la altura del cono: 15\n",
            "El volumen del cono es: 2261.95\n"
          ]
        }
      ],
      "source": [
        "#Ejercicio número 2\n",
        "import math\n",
        "\n",
        "def calcular_volumen_cono(radio, altura):\n",
        "    \"\"\"\n",
        "    Calcula el volumen de un cono dado el radio de la base y la altura.\n",
        "\n",
        "    :param radio: Radio de la base del cono.\n",
        "    :param altura: Altura del cono.\n",
        "    :return: Volumen del cono.\n",
        "    \"\"\"\n",
        "    volumen = (1/3) * math.pi * (radio ** 2) * altura\n",
        "    return volumen\n",
        "\n",
        "# Ejemplo de uso\n",
        "radio = float(input(\"Introduce el radio de la base del cono: \"))\n",
        "altura = float(input(\"Introduce la altura del cono: \"))\n",
        "\n",
        "volumen = calcular_volumen_cono(radio, altura)\n",
        "print(f\"El volumen del cono es: {volumen:.2f}\")"
      ]
    },
    {
      "cell_type": "code",
      "source": [
        "#Ejercicio número 3\n",
        "\n",
        "# Definir la función para calcular el número total de conexiones\n",
        "def calcular_conexiones(n):\n",
        "    if n < 2:\n",
        "        return 0\n",
        "    return (n * (n - 1)) // 2\n",
        "\n",
        "# Solicitar el número de servidores al usuario\n",
        "n = int(input(\"Ingrese el número de servidores: \"))\n",
        "total_conexiones = calcular_conexiones(n)\n",
        "print(f\"El número total de conexiones entre los servidores es: {total_conexiones}\")\n",
        "\n",
        ""
      ],
      "metadata": {
        "colab": {
          "base_uri": "https://localhost:8080/"
        },
        "id": "V65VVucBh77p",
        "outputId": "d4e80910-b91e-44d5-c64b-ae3fa0a15fd6"
      },
      "execution_count": 3,
      "outputs": [
        {
          "output_type": "stream",
          "name": "stdout",
          "text": [
            "Ingrese el número de servidores: 5\n",
            "El número total de conexiones entre los servidores es: 10\n"
          ]
        }
      ]
    },
    {
      "cell_type": "code",
      "source": [
        "#Ejercicio número 4\n",
        "\n",
        "c = float(input(\"Ingrese la temperatura en grados Celsius: \"))\n",
        "f = (c * 9/5) + 32\n",
        "k = c + 273.15\n",
        "print(f\"La temperatura en grados Fahrenheit es: {f}\")\n",
        "print(f\"La temperatura en grados Kelvin es: {k}\")\n"
      ],
      "metadata": {
        "colab": {
          "base_uri": "https://localhost:8080/"
        },
        "id": "-WWfle0EozCD",
        "outputId": "33e99605-2354-43cd-9826-c72026115efd"
      },
      "execution_count": 5,
      "outputs": [
        {
          "output_type": "stream",
          "name": "stdout",
          "text": [
            "Ingrese la temperatura en grados Celsius: 40\n",
            "La temperatura en grados Fahrenheit es: 104.0\n",
            "La temperatura en grados Kelvin es: 313.15\n"
          ]
        }
      ]
    },
    {
      "cell_type": "code",
      "source": [
        "#Ejercicio número 5\n",
        "\n",
        "print(\"¡Hola! Bienvenido a nuestro servicio de atención al cliente.\")\n",
        "\n",
        "articulo = input(\"¿Qué artículo te interesa? \")\n",
        "\n",
        "if articulo == \"manzana\":\n",
        "  print(\"El precio de la manzana es $1.00.\")\n",
        "elif articulo == \"banana\":\n",
        "  print(\"El precio de la banana es $0.50.\")\n",
        "elif articulo == \"naranja\":\n",
        "  print(\"El precio de la naranja es $0.75.\")\n",
        "else:\n",
        "  print(\"Lo siento, no tenemos ese artículo en stock.\")\n"
      ],
      "metadata": {
        "colab": {
          "base_uri": "https://localhost:8080/"
        },
        "id": "XLzjC35NpwtT",
        "outputId": "c2043522-2793-4b27-8340-6073edae958d"
      },
      "execution_count": 4,
      "outputs": [
        {
          "output_type": "stream",
          "name": "stdout",
          "text": [
            "¡Hola! Bienvenido a nuestro servicio de atención al cliente.\n",
            "¿Qué artículo te interesa? manzana\n",
            "El precio de la manzana es $1.00.\n"
          ]
        }
      ]
    },
    {
      "cell_type": "code",
      "source": [
        "#Ejercicio número 6\n",
        "\n",
        "n = int(input(\"Ingrese el número de resistencias: \"))\n",
        "resistencias = []\n",
        "for i in range(n):\n",
        "  r = float(input(f\"Ingrese el valor de la resistencia {i+1}: \"))\n",
        "  resistencias.append(r)\n",
        "\n",
        "tipo_conexion = input(\"Ingrese el tipo de conexión (serie o paralelo): \")\n",
        "\n",
        "if tipo_conexion == \"serie\":\n",
        "  rx = 0\n",
        "  for r in resistencias:\n",
        "    rx += r\n",
        "  print(f\"La resistencia total en serie es: {rx}\")\n",
        "\n",
        "elif tipo_conexion == \"paralelo\":\n",
        "  rx = 0\n",
        "  for r in resistencias:\n",
        "    if r != 0:\n",
        "      rx += 1 / r\n",
        "  rx = 1 / rx\n",
        "  print(f\"La resistencia total en paralelo es: {rx}\")\n",
        "\n",
        "else:\n",
        "  print(\"Tipo de conexión inválido.\")\n"
      ],
      "metadata": {
        "id": "dtQ4gguLqjiq"
      },
      "execution_count": null,
      "outputs": []
    },
    {
      "cell_type": "code",
      "source": [
        "#Ejercicio número 7\n",
        "\n",
        "c = float(input(\"Ingrese la temperatura en grados Celsius: \"))\n",
        "\n",
        "if c > 0:\n",
        "  f = (c * 9/5) + 32\n",
        "  k = c + 273.15\n",
        "  print(f\"La temperatura en grados Fahrenheit es: {f}\")\n",
        "  print(f\"La temperatura en grados Kelvin es: {k}\")\n",
        "else:\n",
        "  print(\"La temperatura debe ser positiva.\")\n"
      ],
      "metadata": {
        "colab": {
          "base_uri": "https://localhost:8080/"
        },
        "id": "aLwk_jAiqtqK",
        "outputId": "95756beb-b1f0-449e-85b9-7c48da74e11c"
      },
      "execution_count": 6,
      "outputs": [
        {
          "output_type": "stream",
          "name": "stdout",
          "text": [
            "Ingrese la temperatura en grados Celsius: 50\n",
            "La temperatura en grados Fahrenheit es: 122.0\n",
            "La temperatura en grados Kelvin es: 323.15\n"
          ]
        }
      ]
    },
    {
      "cell_type": "code",
      "source": [
        "#Ejercicio número 8\n",
        "\n",
        "h = int(input(\"Ingrese las horas: \"))\n",
        "m = int(input(\"Ingrese los minutos: \"))\n",
        "\n",
        "if h > 12:\n",
        "  h = h - 12\n",
        "  print(f\"{h}:{m} PM\")\n",
        "elif h == 12:\n",
        "  print(f\"{h}:{m} PM\")\n",
        "elif h == 0:\n",
        "  print(f\"12:{m} AM\")\n",
        "else:\n",
        "  print(f\"{h}:{m} AM\")\n"
      ],
      "metadata": {
        "id": "n2lAFqocqzxy"
      },
      "execution_count": null,
      "outputs": []
    },
    {
      "cell_type": "code",
      "source": [
        "#Ejercicio número 9\n",
        "\n",
        "n = int(input(\"Ingrese el número de estudiantes: \"))\n",
        "\n",
        "for i in range(n):\n",
        "  nombre = input(\"Digite su nombre: \")\n",
        "  codigo = input(\"Digite su código: \")\n",
        "\n",
        "  carrera = \"\"\n",
        "  if codigo[1:5] == \"0001\":\n",
        "    carrera = \"Telecomunicaciones\"\n",
        "  elif codigo[1:5] == \"0002\":\n",
        "    carrera = \"Financiera\"\n",
        "  elif codigo[1:5] == \"0003\":\n",
        "    carrera = \"Mecatrónica\"\n",
        "  elif codigo[1:5] == \"0004\":\n",
        "    carrera = \"Ingeniería de Sistemas\"\n",
        "  else:\n",
        "    carrera = \"Carrera no encontrada\"\n",
        "\n",
        "\n",
        "  print(\"UNIVERSIDAD AUTÓNOMA DE BUCARAMANGA\")\n",
        "  print(f\"Nombre del estudiante: {nombre}\")\n",
        "  print(f\"Código: {codigo}\")\n",
        "  print(f\"Carrera: {carrera}\")\n"
      ],
      "metadata": {
        "id": "e0vadpJVrNCJ"
      },
      "execution_count": null,
      "outputs": []
    },
    {
      "cell_type": "code",
      "source": [
        "#Ejercicio número 10\n",
        "\n",
        "import math\n",
        "\n",
        "opcion = int(input(\"Seleccione una opción:\\n1. Seno\\n2. Coseno\\n3. Tangente\\nOpción: \"))\n",
        "x = float(input(\"Ingrese el valor de x en grados: \"))\n",
        "\n",
        "x_rad = math.radians(x)\n",
        "\n",
        "if opcion == 1:\n",
        "  resultado = math.sin(x_rad)\n",
        "  print(f\"El seno de {x} grados es: {resultado}\")\n",
        "elif opcion == 2:\n",
        "  resultado = math.cos(x_rad)\n",
        "  print(f\"El coseno de {x} grados es: {resultado}\")\n",
        "elif opcion == 3:\n",
        "  resultado = math.tan(x_rad)\n",
        "  print(f\"La tangente de {x} grados es: {resultado}\")\n",
        "else:\n",
        "  print(\"Opción inválida.\")\n",
        "\n"
      ],
      "metadata": {
        "id": "nn_MxDcNrzip"
      },
      "execution_count": null,
      "outputs": []
    }
  ]
}